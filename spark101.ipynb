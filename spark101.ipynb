{
 "cells": [
  {
   "cell_type": "code",
   "execution_count": 424,
   "metadata": {},
   "outputs": [],
   "source": [
    "import pandas as pd\n",
    "import pyspark\n",
    "import numpy as np\n",
    "from pydataset import data\n",
    "import pyspark\n",
    "spark = pyspark.sql.SparkSession.builder.getOrCreate()\n",
    "from pyspark.sql.functions import concat, sum, avg, min, max, count, mean\n",
    "from pyspark.sql.functions import lit\n",
    "from pyspark.sql.functions import col, expr"
   ]
  },
  {
   "cell_type": "markdown",
   "metadata": {},
   "source": [
    "## *1.) Create a spark data frame that contains your favorite programming languages.*\n",
    "\n",
    "- The name of the column should be language\n",
    "- View the schema of the dataframe\n",
    "- Output the shape of the dataframe\n",
    "- Show the first 5 records in the dataframe"
   ]
  },
  {
   "cell_type": "code",
   "execution_count": 425,
   "metadata": {},
   "outputs": [
    {
     "name": "stdout",
     "output_type": "stream",
     "text": [
      "+----------+\n",
      "|  language|\n",
      "+----------+\n",
      "|      java|\n",
      "|      java|\n",
      "|       C++|\n",
      "|       C++|\n",
      "|javascript|\n",
      "|      java|\n",
      "|      java|\n",
      "|javascript|\n",
      "|    python|\n",
      "|      java|\n",
      "|javascript|\n",
      "|      java|\n",
      "|         r|\n",
      "|       C++|\n",
      "|         r|\n",
      "|    python|\n",
      "|       C++|\n",
      "|      java|\n",
      "|    python|\n",
      "|       C++|\n",
      "+----------+\n",
      "\n"
     ]
    }
   ],
   "source": [
    "pandas_dataframe = pd.DataFrame(dict(n=np.arange(20), language=np.random.choice(list(['python', 'r', 'java', 'javascript', 'C++']), 20)))\n",
    "pandas_dataframe.drop(columns = 'n', inplace = True)\n",
    "df = spark.createDataFrame(pandas_dataframe)\n",
    "df.show()"
   ]
  },
  {
   "cell_type": "code",
   "execution_count": 426,
   "metadata": {},
   "outputs": [
    {
     "data": {
      "text/plain": [
       "(20, 1)"
      ]
     },
     "execution_count": 426,
     "metadata": {},
     "output_type": "execute_result"
    }
   ],
   "source": [
    "(df.count(), len(df.columns))"
   ]
  },
  {
   "cell_type": "code",
   "execution_count": 427,
   "metadata": {},
   "outputs": [
    {
     "name": "stdout",
     "output_type": "stream",
     "text": [
      "root\n",
      " |-- language: string (nullable = true)\n",
      "\n"
     ]
    }
   ],
   "source": [
    "df.printSchema()"
   ]
  },
  {
   "cell_type": "code",
   "execution_count": 428,
   "metadata": {},
   "outputs": [
    {
     "name": "stdout",
     "output_type": "stream",
     "text": [
      "+----------+\n",
      "|  language|\n",
      "+----------+\n",
      "|      java|\n",
      "|      java|\n",
      "|       C++|\n",
      "|       C++|\n",
      "|javascript|\n",
      "+----------+\n",
      "only showing top 5 rows\n",
      "\n"
     ]
    }
   ],
   "source": [
    "df.show(5)"
   ]
  },
  {
   "cell_type": "markdown",
   "metadata": {},
   "source": [
    "## *2.) Load the mpg dataset as a spark dataframe.*\n",
    "\n",
    "- Create 1 column of output that contains a message like the one below:\n",
    "    - The 1999 audi a4 has a 4 cylinder engine. For each vehicle.\n",
    "\n",
    "- Transform the trans column so that it only contains either manual or auto."
   ]
  },
  {
   "cell_type": "code",
   "execution_count": 429,
   "metadata": {},
   "outputs": [],
   "source": [
    "pandas_df = data('mpg')"
   ]
  },
  {
   "cell_type": "code",
   "execution_count": 430,
   "metadata": {},
   "outputs": [
    {
     "name": "stdout",
     "output_type": "stream",
     "text": [
      "+------------+-----+-----+----+---+----------+---+---+---+---+-------+\n",
      "|manufacturer|model|displ|year|cyl|     trans|drv|cty|hwy| fl|  class|\n",
      "+------------+-----+-----+----+---+----------+---+---+---+---+-------+\n",
      "|        audi|   a4|  1.8|1999|  4|  auto(l5)|  f| 18| 29|  p|compact|\n",
      "|        audi|   a4|  1.8|1999|  4|manual(m5)|  f| 21| 29|  p|compact|\n",
      "|        audi|   a4|  2.0|2008|  4|manual(m6)|  f| 20| 31|  p|compact|\n",
      "+------------+-----+-----+----+---+----------+---+---+---+---+-------+\n",
      "only showing top 3 rows\n",
      "\n"
     ]
    }
   ],
   "source": [
    "df = spark.createDataFrame(pandas_df)\n",
    "df.show(3)"
   ]
  },
  {
   "cell_type": "code",
   "execution_count": 431,
   "metadata": {},
   "outputs": [
    {
     "name": "stdout",
     "output_type": "stream",
     "text": [
      "+--------------------------------------------------------------+\n",
      "|car                                                           |\n",
      "+--------------------------------------------------------------+\n",
      "|The 1999 audi a4 has a 4 cylinder engine.                     |\n",
      "|The 1999 audi a4 has a 4 cylinder engine.                     |\n",
      "|The 2008 audi a4 has a 4 cylinder engine.                     |\n",
      "|The 2008 audi a4 has a 4 cylinder engine.                     |\n",
      "|The 1999 audi a4 has a 6 cylinder engine.                     |\n",
      "|The 1999 audi a4 has a 6 cylinder engine.                     |\n",
      "|The 2008 audi a4 has a 6 cylinder engine.                     |\n",
      "|The 1999 audi a4 quattro has a 4 cylinder engine.             |\n",
      "|The 1999 audi a4 quattro has a 4 cylinder engine.             |\n",
      "|The 2008 audi a4 quattro has a 4 cylinder engine.             |\n",
      "|The 2008 audi a4 quattro has a 4 cylinder engine.             |\n",
      "|The 1999 audi a4 quattro has a 6 cylinder engine.             |\n",
      "|The 1999 audi a4 quattro has a 6 cylinder engine.             |\n",
      "|The 2008 audi a4 quattro has a 6 cylinder engine.             |\n",
      "|The 2008 audi a4 quattro has a 6 cylinder engine.             |\n",
      "|The 1999 audi a6 quattro has a 6 cylinder engine.             |\n",
      "|The 2008 audi a6 quattro has a 6 cylinder engine.             |\n",
      "|The 2008 audi a6 quattro has a 8 cylinder engine.             |\n",
      "|The 2008 chevrolet c1500 suburban 2wd has a 8 cylinder engine.|\n",
      "|The 2008 chevrolet c1500 suburban 2wd has a 8 cylinder engine.|\n",
      "+--------------------------------------------------------------+\n",
      "only showing top 20 rows\n",
      "\n"
     ]
    }
   ],
   "source": [
    "df.select(concat(lit('The '), df.year,lit(' '),df.manufacturer,lit(' '), df.model,lit(' has a '), df.cyl, lit(' cylinder engine.')).alias('car')).show(truncate = False)"
   ]
  },
  {
   "cell_type": "code",
   "execution_count": 433,
   "metadata": {},
   "outputs": [
    {
     "ename": "NameError",
     "evalue": "name 'regexp_extract' is not defined",
     "output_type": "error",
     "traceback": [
      "\u001b[0;31m---------------------------------------------------------------------------\u001b[0m",
      "\u001b[0;31mNameError\u001b[0m                                 Traceback (most recent call last)",
      "\u001b[0;32m<ipython-input-433-f41e8b9c06c0>\u001b[0m in \u001b[0;36m<module>\u001b[0;34m\u001b[0m\n\u001b[1;32m      2\u001b[0m df.select(\n\u001b[1;32m      3\u001b[0m     \u001b[0;34m'trans'\u001b[0m\u001b[0;34m,\u001b[0m\u001b[0;34m\u001b[0m\u001b[0;34m\u001b[0m\u001b[0m\n\u001b[0;32m----> 4\u001b[0;31m     \u001b[0mregexp_extract\u001b[0m\u001b[0;34m(\u001b[0m\u001b[0;34m\"trans\"\u001b[0m\u001b[0;34m,\u001b[0m \u001b[0;34mr\"^(\\w+)\\(\"\u001b[0m\u001b[0;34m,\u001b[0m \u001b[0;36m1\u001b[0m\u001b[0;34m)\u001b[0m\u001b[0;34m.\u001b[0m\u001b[0malias\u001b[0m\u001b[0;34m(\u001b[0m\u001b[0;34m\"regexp_extract\"\u001b[0m\u001b[0;34m)\u001b[0m\u001b[0;34m,\u001b[0m\u001b[0;34m\u001b[0m\u001b[0;34m\u001b[0m\u001b[0m\n\u001b[0m\u001b[1;32m      5\u001b[0m     \u001b[0mregexp_replace\u001b[0m\u001b[0;34m(\u001b[0m\u001b[0;34m\"trans\"\u001b[0m\u001b[0;34m,\u001b[0m \u001b[0;34mr\"\\(.+$\"\u001b[0m\u001b[0;34m,\u001b[0m \u001b[0;34m\"\"\u001b[0m\u001b[0;34m)\u001b[0m\u001b[0;34m.\u001b[0m\u001b[0malias\u001b[0m\u001b[0;34m(\u001b[0m\u001b[0;34m\"regexp_replace\"\u001b[0m\u001b[0;34m)\u001b[0m\u001b[0;34m,\u001b[0m\u001b[0;34m\u001b[0m\u001b[0;34m\u001b[0m\u001b[0m\n\u001b[1;32m      6\u001b[0m     when(\n",
      "\u001b[0;31mNameError\u001b[0m: name 'regexp_extract' is not defined"
     ]
    }
   ],
   "source": [
    "# multiple ways to do this\n",
    "df.select(\n",
    "    'trans',\n",
    "    regexp_extract(\"trans\", r\"^(\\w+)\\(\", 1).alias(\"regexp_extract\"),\n",
    "    regexp_replace(\"trans\", r\"\\(.+$\", \"\").alias(\"regexp_replace\"),\n",
    "    when(\n",
    "        df.trans.like(\"auto%\"), \"auto\"\n",
    "    ).otherwise(\"manual\").alias(\"when + like\")\n",
    ").show()"
   ]
  },
  {
   "cell_type": "markdown",
   "metadata": {},
   "source": [
    "## *3.) Load the tips dataset as a spark dataframe.*\n",
    "\n",
    "- What percentage of observations are smokers?\n",
    "- Create a column that contains the tip percentage\n",
    "- Calculate the average tip percentage for each combination of sex and smoker."
   ]
  },
  {
   "cell_type": "code",
   "execution_count": 435,
   "metadata": {},
   "outputs": [],
   "source": [
    "tips = data('tips')\n",
    "tips_df = spark.createDataFrame(tips)"
   ]
  },
  {
   "cell_type": "code",
   "execution_count": 436,
   "metadata": {},
   "outputs": [
    {
     "data": {
      "text/plain": [
       "DataFrame[summary: string, total_bill: string, tip: string, sex: string, smoker: string, day: string, time: string, size: string]"
      ]
     },
     "execution_count": 436,
     "metadata": {},
     "output_type": "execute_result"
    }
   ],
   "source": [
    "tips_df.describe()"
   ]
  },
  {
   "cell_type": "code",
   "execution_count": 437,
   "metadata": {},
   "outputs": [
    {
     "data": {
      "text/plain": [
       "244"
      ]
     },
     "execution_count": 437,
     "metadata": {},
     "output_type": "execute_result"
    }
   ],
   "source": [
    "tips_df.select(tips_df.smoker).count()"
   ]
  },
  {
   "cell_type": "code",
   "execution_count": 438,
   "metadata": {},
   "outputs": [
    {
     "data": {
      "text/plain": [
       "38.11"
      ]
     },
     "execution_count": 438,
     "metadata": {},
     "output_type": "execute_result"
    }
   ],
   "source": [
    "#percentage of obseervations are smokers\n",
    "round((tips_df.filter(tips_df.smoker == 'Yes').count() / tips_df.select(tips_df.smoker).count()) *100,2)"
   ]
  },
  {
   "cell_type": "code",
   "execution_count": 439,
   "metadata": {},
   "outputs": [
    {
     "name": "stdout",
     "output_type": "stream",
     "text": [
      "root\n",
      " |-- tip: float (nullable = true)\n",
      "\n",
      "root\n",
      " |-- total_bill: float (nullable = true)\n",
      "\n"
     ]
    }
   ],
   "source": [
    "#have to use cast to change dtype\n",
    "\n",
    "tips_df.select(tips_df.tip.cast(\"float\")).printSchema()\n",
    "\n",
    "tips_df.select(tips_df.total_bill.cast(\"float\")).printSchema()"
   ]
  },
  {
   "cell_type": "code",
   "execution_count": 440,
   "metadata": {},
   "outputs": [],
   "source": [
    "col = tips_df.select((tips_df.tip / tips_df.total_bill).alias('tip_percentage'))"
   ]
  },
  {
   "cell_type": "code",
   "execution_count": 441,
   "metadata": {},
   "outputs": [],
   "source": [
    "avg_column = (tips_df.tip / tips_df.total_bill)\n"
   ]
  },
  {
   "cell_type": "code",
   "execution_count": 442,
   "metadata": {},
   "outputs": [
    {
     "name": "stdout",
     "output_type": "stream",
     "text": [
      "+------+------+-------------------+\n",
      "|sex   |smoker|(tip / total_bill) |\n",
      "+------+------+-------------------+\n",
      "|Female|No    |0.05944673337257211|\n",
      "|Male  |No    |0.16054158607350097|\n",
      "|Male  |No    |0.16658733936220846|\n",
      "|Male  |No    |0.1397804054054054 |\n",
      "|Female|No    |0.14680764538430255|\n",
      "|Male  |No    |0.18623962040332148|\n",
      "|Male  |No    |0.22805017103762829|\n",
      "|Male  |No    |0.11607142857142858|\n",
      "|Male  |No    |0.13031914893617022|\n",
      "|Male  |No    |0.2185385656292287 |\n",
      "|Male  |No    |0.1665043816942551 |\n",
      "|Female|No    |0.14180374361883155|\n",
      "|Male  |No    |0.10181582360570687|\n",
      "|Male  |No    |0.16277807921866522|\n",
      "|Female|No    |0.20364126770060686|\n",
      "|Male  |No    |0.18164967562557924|\n",
      "|Female|No    |0.1616650532429816 |\n",
      "|Male  |No    |0.22774708410067526|\n",
      "|Female|No    |0.20624631703005306|\n",
      "|Male  |No    |0.16222760290556903|\n",
      "+------+------+-------------------+\n",
      "only showing top 20 rows\n",
      "\n"
     ]
    }
   ],
   "source": [
    "# tip percentage for combination of sex and smoker.\n",
    "tips_df.select(tips_df.sex, tips_df.smoker,avg_column).show(truncate = False)"
   ]
  },
  {
   "cell_type": "code",
   "execution_count": 446,
   "metadata": {},
   "outputs": [
    {
     "ename": "TypeError",
     "evalue": "'DataFrame' object is not callable",
     "output_type": "error",
     "traceback": [
      "\u001b[0;31m---------------------------------------------------------------------------\u001b[0m",
      "\u001b[0;31mTypeError\u001b[0m                                 Traceback (most recent call last)",
      "\u001b[0;32m<ipython-input-446-875653f60eb2>\u001b[0m in \u001b[0;36m<module>\u001b[0;34m\u001b[0m\n\u001b[1;32m      1\u001b[0m tips_df.groupBy(\"smoker\").count().withColumn(\n\u001b[1;32m      2\u001b[0m     \u001b[0;34m\"percent\"\u001b[0m\u001b[0;34m,\u001b[0m\u001b[0;34m\u001b[0m\u001b[0;34m\u001b[0m\u001b[0m\n\u001b[0;32m----> 3\u001b[0;31m     \u001b[0mconcat\u001b[0m\u001b[0;34m(\u001b[0m\u001b[0mround\u001b[0m\u001b[0;34m(\u001b[0m\u001b[0;34m(\u001b[0m\u001b[0mcol\u001b[0m\u001b[0;34m(\u001b[0m\u001b[0;34m\"count\"\u001b[0m\u001b[0;34m)\u001b[0m \u001b[0;34m/\u001b[0m \u001b[0mtips_df\u001b[0m\u001b[0;34m.\u001b[0m\u001b[0mcount\u001b[0m\u001b[0;34m(\u001b[0m\u001b[0;34m)\u001b[0m \u001b[0;34m*\u001b[0m \u001b[0;36m100\u001b[0m\u001b[0;34m)\u001b[0m\u001b[0;34m,\u001b[0m \u001b[0;36m0\u001b[0m\u001b[0;34m)\u001b[0m\u001b[0;34m.\u001b[0m\u001b[0mcast\u001b[0m\u001b[0;34m(\u001b[0m\u001b[0;34m\"int\"\u001b[0m\u001b[0;34m)\u001b[0m\u001b[0;34m,\u001b[0m \u001b[0mlit\u001b[0m\u001b[0;34m(\u001b[0m\u001b[0;34m\"%\"\u001b[0m\u001b[0;34m)\u001b[0m\u001b[0;34m)\u001b[0m\u001b[0;34m,\u001b[0m\u001b[0;34m\u001b[0m\u001b[0;34m\u001b[0m\u001b[0m\n\u001b[0m\u001b[1;32m      4\u001b[0m ).show()\n",
      "\u001b[0;31mTypeError\u001b[0m: 'DataFrame' object is not callable"
     ]
    }
   ],
   "source": [
    "tips_df.groupBy(\"smoker\").count().withColumn(\n",
    "    \"percent\",\n",
    "    concat(round((col(\"count\") / tips_df.count() * 100), 0).cast(\"int\"), lit(\"%\")),\n",
    ").show()"
   ]
  },
  {
   "cell_type": "markdown",
   "metadata": {},
   "source": [
    "*# 4.) Use the seattle weather dataset referenced in the lesson to answer the questions below.*\n",
    "\n",
    "- Convert the temperatures to fahrenheit.\n",
    "- Which month has the most rain, on average?\n",
    "- Which year was the windiest?\n",
    "- What is the most frequent type of weather in January?\n",
    "- What is the average high and low temperature on sunny days in July in 2013 and 2014?\n",
    "What percentage of days were rainy in q3 of 2015?\n",
    "For each year, find what percentage of days it rained (had non-zero precipitation)."
   ]
  },
  {
   "cell_type": "code",
   "execution_count": 447,
   "metadata": {},
   "outputs": [
    {
     "name": "stdout",
     "output_type": "stream",
     "text": [
      "+----------+-------------+--------+--------+----+-------+\n",
      "|      date|precipitation|temp_max|temp_min|wind|weather|\n",
      "+----------+-------------+--------+--------+----+-------+\n",
      "|2012-01-01|          0.0|    12.8|     5.0| 4.7|drizzle|\n",
      "|2012-01-02|         10.9|    10.6|     2.8| 4.5|   rain|\n",
      "|2012-01-03|          0.8|    11.7|     7.2| 2.3|   rain|\n",
      "|2012-01-04|         20.3|    12.2|     5.6| 4.7|   rain|\n",
      "|2012-01-05|          1.3|     8.9|     2.8| 6.1|   rain|\n",
      "|2012-01-06|          2.5|     4.4|     2.2| 2.2|   rain|\n",
      "+----------+-------------+--------+--------+----+-------+\n",
      "only showing top 6 rows\n",
      "\n"
     ]
    }
   ],
   "source": [
    "from vega_datasets import data\n",
    "from pyspark.sql.functions import month, year, quarter\n",
    "\n",
    "weather = data.seattle_weather().assign(date=lambda df: df.date.astype(str))\n",
    "df = spark.createDataFrame(weather)\n",
    "df.show(6)"
   ]
  },
  {
   "cell_type": "code",
   "execution_count": 448,
   "metadata": {},
   "outputs": [
    {
     "name": "stdout",
     "output_type": "stream",
     "text": [
      "root\n",
      " |-- temp_min: float (nullable = true)\n",
      "\n"
     ]
    }
   ],
   "source": [
    "df.select(df.temp_max.cast(\"float\")).printSchema\n",
    "\n",
    "df.select(df.temp_min.cast(\"float\")).printSchema()"
   ]
  },
  {
   "cell_type": "code",
   "execution_count": 449,
   "metadata": {},
   "outputs": [],
   "source": [
    "avg_column = (tips_df.tip / tips_df.total_bill)"
   ]
  },
  {
   "cell_type": "code",
   "execution_count": 268,
   "metadata": {},
   "outputs": [],
   "source": [
    "#converting to degrees f\n",
    "temp_max_f = ((df.temp_max * 9/5) + 32).alias('temp_max_f')\n",
    "temp_min_f = ((df.temp_min * 9/5) + 32).alias('temp_min_f')"
   ]
  },
  {
   "cell_type": "code",
   "execution_count": 328,
   "metadata": {},
   "outputs": [],
   "source": [
    "df2 = df.select(df.date, df.precipitation,temp_max_f, temp_min_f, df.wind, df.weather)"
   ]
  },
  {
   "cell_type": "code",
   "execution_count": 337,
   "metadata": {},
   "outputs": [
    {
     "name": "stdout",
     "output_type": "stream",
     "text": [
      "+----------+-------------+------------------+------------------+----+-------+\n",
      "|      date|precipitation|        temp_max_f|        temp_min_f|wind|weather|\n",
      "+----------+-------------+------------------+------------------+----+-------+\n",
      "|2012-01-01|          0.0|             55.04|              41.0| 4.7|drizzle|\n",
      "|2012-01-02|         10.9|             51.08|             37.04| 4.5|   rain|\n",
      "|2012-01-03|          0.8|             53.06|             44.96| 2.3|   rain|\n",
      "|2012-01-04|         20.3|             53.96|             42.08| 4.7|   rain|\n",
      "|2012-01-05|          1.3|             48.02|             37.04| 6.1|   rain|\n",
      "|2012-01-06|          2.5|             39.92|             35.96| 2.2|   rain|\n",
      "|2012-01-07|          0.0|             44.96|             37.04| 2.3|   rain|\n",
      "|2012-01-08|          0.0|              50.0|             37.04| 2.0|    sun|\n",
      "|2012-01-09|          4.3|             48.92|              41.0| 3.4|   rain|\n",
      "|2012-01-10|          1.0|42.980000000000004|             33.08| 3.4|   rain|\n",
      "|2012-01-11|          0.0|42.980000000000004|             30.02| 5.1|    sun|\n",
      "|2012-01-12|          0.0|42.980000000000004|             28.94| 1.9|    sun|\n",
      "|2012-01-13|          0.0|              41.0|             26.96| 1.3|    sun|\n",
      "|2012-01-14|          4.1|             39.92|             33.08| 5.3|   snow|\n",
      "|2012-01-15|          5.3|             33.98|26.060000000000002| 3.2|   snow|\n",
      "|2012-01-16|          2.5|             35.06|             26.96| 5.0|   snow|\n",
      "|2012-01-17|          8.1|             37.94|              32.0| 5.6|   snow|\n",
      "|2012-01-18|         19.8|              32.0|             26.96| 5.0|   snow|\n",
      "|2012-01-19|         15.2|             30.02|             26.96| 1.6|   snow|\n",
      "|2012-01-20|         13.5|             44.96|             30.02| 2.3|   snow|\n",
      "+----------+-------------+------------------+------------------+----+-------+\n",
      "only showing top 20 rows\n",
      "\n"
     ]
    }
   ],
   "source": [
    "df2.show()"
   ]
  },
  {
   "cell_type": "code",
   "execution_count": 270,
   "metadata": {},
   "outputs": [
    {
     "name": "stdout",
     "output_type": "stream",
     "text": [
      "+-----+------------------+\n",
      "|month|    total_rainfall|\n",
      "+-----+------------------+\n",
      "|    1|465.99999999999994|\n",
      "|    2|             422.0|\n",
      "|    3|             606.2|\n",
      "|    4|             375.4|\n",
      "|    5|             207.5|\n",
      "|    6|             132.9|\n",
      "|    7|              48.2|\n",
      "|    8|             163.7|\n",
      "|    9|235.49999999999997|\n",
      "|   10|             503.4|\n",
      "|   11|             642.5|\n",
      "|   12|             622.7|\n",
      "+-----+------------------+\n",
      "\n"
     ]
    }
   ],
   "source": [
    "#most rain was month 11\n",
    "(\n",
    "    df.withColumn(\"month\", month(\"date\"))\n",
    "    .groupBy(\"month\")\n",
    "    .agg(sum(\"precipitation\").alias(\"total_rainfall\"))\n",
    "    .sort(\"month\")\n",
    "    .show()\n",
    ")"
   ]
  },
  {
   "cell_type": "code",
   "execution_count": 348,
   "metadata": {},
   "outputs": [
    {
     "name": "stdout",
     "output_type": "stream",
     "text": [
      "+----+------------------+\n",
      "|year|         windspeed|\n",
      "+----+------------------+\n",
      "|2012|1244.6999999999998|\n",
      "|2013|1100.8000000000002|\n",
      "|2014|1236.5000000000005|\n",
      "|2015|            1153.3|\n",
      "+----+------------------+\n",
      "\n"
     ]
    }
   ],
   "source": [
    "#2012 was the windiest\n",
    "df.withColumn(\"year\", year('date')).groupBy(\"year\").agg(sum(\"wind\").alias(\"windspeed\")).sort(\"year\").show()"
   ]
  },
  {
   "cell_type": "code",
   "execution_count": 314,
   "metadata": {},
   "outputs": [
    {
     "name": "stdout",
     "output_type": "stream",
     "text": [
      "+-------+--------------+\n",
      "|weather|count(weather)|\n",
      "+-------+--------------+\n",
      "|    fog|           411|\n",
      "|drizzle|            54|\n",
      "|   rain|           259|\n",
      "|    sun|           714|\n",
      "|   snow|            23|\n",
      "+-------+--------------+\n",
      "\n"
     ]
    }
   ],
   "source": [
    "#most freuqent type of weather for january\n",
    "df.withColumn(\"month\", month(\"date\")).groupby('weather').agg(count(\"weather\")).show()"
   ]
  },
  {
   "cell_type": "code",
   "execution_count": 321,
   "metadata": {},
   "outputs": [
    {
     "name": "stdout",
     "output_type": "stream",
     "text": [
      "+-----+-------+--------------+\n",
      "|month|weather|count(weather)|\n",
      "+-----+-------+--------------+\n",
      "|1    |drizzle|10            |\n",
      "|1    |sun    |33            |\n",
      "|1    |snow   |8             |\n",
      "|1    |rain   |35            |\n",
      "|1    |fog    |38            |\n",
      "+-----+-------+--------------+\n",
      "\n"
     ]
    }
   ],
   "source": [
    "#most freuqent type of weather for january is fog\n",
    "df.filter(month(\"date\") == 1).withColumn('month', month('date')).groupby('month', 'weather').agg(count(\"weather\")).show(truncate = False)"
   ]
  },
  {
   "cell_type": "code",
   "execution_count": 341,
   "metadata": {},
   "outputs": [
    {
     "name": "stdout",
     "output_type": "stream",
     "text": [
      "root\n",
      " |-- date: string (nullable = true)\n",
      " |-- precipitation: double (nullable = true)\n",
      " |-- temp_max_f: double (nullable = true)\n",
      " |-- temp_min_f: double (nullable = true)\n",
      " |-- wind: double (nullable = true)\n",
      " |-- weather: string (nullable = true)\n",
      "\n"
     ]
    }
   ],
   "source": [
    "df2.printSchema()"
   ]
  },
  {
   "cell_type": "code",
   "execution_count": 361,
   "metadata": {},
   "outputs": [
    {
     "name": "stdout",
     "output_type": "stream",
     "text": [
      "+----+--------------+\n",
      "|year|count(weather)|\n",
      "+----+--------------+\n",
      "|2015|           180|\n",
      "|2013|           205|\n",
      "|2014|           211|\n",
      "|2012|           118|\n",
      "+----+--------------+\n",
      "\n"
     ]
    }
   ],
   "source": [
    "#What is the average high and low temperature on sunny days in July in 2013 and 2014?\n",
    "df2.filter(df2.weather == 'sun').withColumn('year', year('date')).groupby('year').agg(count('weather')).show()"
   ]
  },
  {
   "cell_type": "code",
   "execution_count": 364,
   "metadata": {},
   "outputs": [
    {
     "name": "stdout",
     "output_type": "stream",
     "text": [
      "+----------+-------------+------------------+------------------+----+-------+\n",
      "|      date|precipitation|        temp_max_f|        temp_min_f|wind|weather|\n",
      "+----------+-------------+------------------+------------------+----+-------+\n",
      "|2012-01-01|          0.0|             55.04|              41.0| 4.7|drizzle|\n",
      "|2012-01-02|         10.9|             51.08|             37.04| 4.5|   rain|\n",
      "|2012-01-03|          0.8|             53.06|             44.96| 2.3|   rain|\n",
      "|2012-01-04|         20.3|             53.96|             42.08| 4.7|   rain|\n",
      "|2012-01-05|          1.3|             48.02|             37.04| 6.1|   rain|\n",
      "|2012-01-06|          2.5|             39.92|             35.96| 2.2|   rain|\n",
      "|2012-01-07|          0.0|             44.96|             37.04| 2.3|   rain|\n",
      "|2012-01-08|          0.0|              50.0|             37.04| 2.0|    sun|\n",
      "|2012-01-09|          4.3|             48.92|              41.0| 3.4|   rain|\n",
      "|2012-01-10|          1.0|42.980000000000004|             33.08| 3.4|   rain|\n",
      "|2012-01-11|          0.0|42.980000000000004|             30.02| 5.1|    sun|\n",
      "|2012-01-12|          0.0|42.980000000000004|             28.94| 1.9|    sun|\n",
      "|2012-01-13|          0.0|              41.0|             26.96| 1.3|    sun|\n",
      "|2012-01-14|          4.1|             39.92|             33.08| 5.3|   snow|\n",
      "|2012-01-15|          5.3|             33.98|26.060000000000002| 3.2|   snow|\n",
      "|2012-01-16|          2.5|             35.06|             26.96| 5.0|   snow|\n",
      "|2012-01-17|          8.1|             37.94|              32.0| 5.6|   snow|\n",
      "|2012-01-18|         19.8|              32.0|             26.96| 5.0|   snow|\n",
      "|2012-01-19|         15.2|             30.02|             26.96| 1.6|   snow|\n",
      "|2012-01-20|         13.5|             44.96|             30.02| 2.3|   snow|\n",
      "+----------+-------------+------------------+------------------+----+-------+\n",
      "only showing top 20 rows\n",
      "\n"
     ]
    }
   ],
   "source": [
    "df2.show()"
   ]
  },
  {
   "cell_type": "code",
   "execution_count": 372,
   "metadata": {},
   "outputs": [
    {
     "name": "stdout",
     "output_type": "stream",
     "text": [
      "+--------------+\n",
      "|count(weather)|\n",
      "+--------------+\n",
      "|             2|\n",
      "+--------------+\n",
      "\n"
     ]
    }
   ],
   "source": [
    "#What percentage of days were rainy in q3 of 2015?#filter weather filter quarter\n",
    "df2.filter(year('date') == 2015).withColumn(\"quarter\", quarter(\"date\")).filter(quarter('date') ==3).filter(df.weather == 'rain').agg(count('weather')).show()"
   ]
  },
  {
   "cell_type": "code",
   "execution_count": 373,
   "metadata": {},
   "outputs": [
    {
     "name": "stdout",
     "output_type": "stream",
     "text": [
      "+--------------+\n",
      "|count(weather)|\n",
      "+--------------+\n",
      "|            90|\n",
      "+--------------+\n",
      "\n"
     ]
    }
   ],
   "source": [
    "df2.filter(year('date') == 2015).withColumn(\"quarter\", quarter(\"date\")).filter(quarter('date') ==3).filter(df.weather != 'rain').agg(count('weather')).show()"
   ]
  },
  {
   "cell_type": "code",
   "execution_count": 375,
   "metadata": {},
   "outputs": [
    {
     "data": {
      "text/plain": [
       "2.2222222222222223"
      ]
     },
     "execution_count": 375,
     "metadata": {},
     "output_type": "execute_result"
    }
   ],
   "source": [
    "#2 percent of days in 2015 were rainy\n",
    "2/90 * 100"
   ]
  },
  {
   "cell_type": "code",
   "execution_count": 394,
   "metadata": {},
   "outputs": [],
   "source": [
    "from pyspark.sql.functions import when"
   ]
  },
  {
   "cell_type": "code",
   "execution_count": 415,
   "metadata": {},
   "outputs": [
    {
     "name": "stdout",
     "output_type": "stream",
     "text": [
      "+----+-------------------+\n",
      "|year|          avg(rain)|\n",
      "+----+-------------------+\n",
      "|2015| 0.0136986301369863|\n",
      "|2013| 0.1643835616438356|\n",
      "|2014|0.00821917808219178|\n",
      "|2012| 0.5218579234972678|\n",
      "+----+-------------------+\n",
      "\n"
     ]
    }
   ],
   "source": [
    "#For each year, find what percentage of days it rained (had non-zero precipitation).\n",
    "df2.withColumn(\"year\", year(\"date\")).select(when(df2.weather != 'rain', 0).otherwise(1).alias('rain'), 'year').groupby(\"year\").agg(mean(\"rain\")).show()"
   ]
  },
  {
   "cell_type": "code",
   "execution_count": 413,
   "metadata": {},
   "outputs": [
    {
     "name": "stdout",
     "output_type": "stream",
     "text": [
      "+----+-------------------+\n",
      "|year|          avg(rain)|\n",
      "+----+-------------------+\n",
      "|2015|0.39452054794520547|\n",
      "|2013|0.41643835616438357|\n",
      "|2014|  0.410958904109589|\n",
      "|2012|0.48360655737704916|\n",
      "+----+-------------------+\n",
      "\n"
     ]
    }
   ],
   "source": [
    "# measure a rainy day by precipitation > 0\n",
    "(df2.withColumn(\"year\", year(\"date\")).select(when(df2.precipitation > 0, 1).otherwise(0).alias(\"rain\"), \"year\").groupby(\"year\").agg(mean(\"rain\")).show())"
   ]
  },
  {
   "cell_type": "code",
   "execution_count": null,
   "metadata": {},
   "outputs": [],
   "source": []
  }
 ],
 "metadata": {
  "kernelspec": {
   "display_name": "Python 3",
   "language": "python",
   "name": "python3"
  },
  "language_info": {
   "codemirror_mode": {
    "name": "ipython",
    "version": 3
   },
   "file_extension": ".py",
   "mimetype": "text/x-python",
   "name": "python",
   "nbconvert_exporter": "python",
   "pygments_lexer": "ipython3",
   "version": "3.8.5"
  }
 },
 "nbformat": 4,
 "nbformat_minor": 4
}
