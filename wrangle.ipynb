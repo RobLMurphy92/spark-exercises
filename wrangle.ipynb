{
 "cells": [
  {
   "cell_type": "code",
   "execution_count": 1,
   "metadata": {},
   "outputs": [],
   "source": [
    "from pyspark.sql import SparkSession\n",
    "from pyspark.sql.functions import *\n",
    "import pandas as pd\n",
    "from pyspark.sql.functions import col, expr\n",
    "from pyspark.sql.functions import concat, sum, avg, min, max, count, mean\n",
    "from pyspark.sql.functions import lit\n",
    "from pyspark.sql.functions import regexp_extract, regexp_replace\n",
    "from pyspark.sql.functions import when\n",
    "from pyspark.sql.functions import asc, desc\n",
    "from pyspark.sql.functions import month, year, quarter\n",
    "\n",
    "spark = SparkSession.builder.getOrCreate()"
   ]
  },
  {
   "cell_type": "markdown",
   "metadata": {},
   "source": [
    "# 1.) Read the case, department, and source data into their own spark dataframes.\n",
    "\n",
    "Let's see how writing to the local disk works in spark:\n",
    "\n",
    "- Write the code necessary to store the source data in both csv and json format, store these as sources_csv and sources_json\n",
    "- Inspect your folder structure. What do you notice?\n",
    "- Inspect the data in your dataframes. Are the data types appropriate? Write the code necessary to cast the values to the appropriate types."
   ]
  },
  {
   "cell_type": "code",
   "execution_count": 2,
   "metadata": {},
   "outputs": [],
   "source": [
    "from pyspark.sql.types import StructType, StructField, StringType\n",
    "\n",
    "schema = StructType(\n",
    "    [\n",
    "        StructField(\"source_id\", StringType()),\n",
    "        StructField(\"source_username\", StringType()),\n",
    "    ]\n",
    ")\n",
    "\n",
    "schema1 = StructType(\n",
    "    [\n",
    "        StructField(\"case_id\", StringType()),\n",
    "        StructField(\"case_opened_date\", StringType()),\n",
    "        StructField(\"case_closed_date\", StringType()),\n",
    "        StructField(\"SLA_due_date\", StringType()),\n",
    "        StructField(\"case_late\", StringType()),\n",
    "        StructField(\"num_days_late\", StringType()),\n",
    "        StructField(\"case_closed\", StringType()),\n",
    "        StructField(\"dept_division\", StringType()),\n",
    "        StructField(\"service_request_type\", StringType()),\n",
    "        StructField(\"SLA_days\", StringType()),\n",
    "        StructField(\"case_status\", StringType()),\n",
    "        StructField(\"source_id\", StringType()),\n",
    "        StructField(\"request_address\", StringType()),\n",
    "        StructField(\"council_district\", StringType()),\n",
    "        \n",
    "    ]\n",
    ")\n",
    "\n",
    "schema2 = StructType(\n",
    "    [\n",
    "        StructField(\"dept_division\", StringType()),\n",
    "        StructField(\"dept_name\", StringType()),\n",
    "        StructField(\"standardized_dept_name\", StringType()),\n",
    "        StructField(\"dept_subject_to_SLA\", StringType())\n",
    "    ]\n",
    ")\n",
    "\n",
    "\n",
    "# Read csv, but now we specify the schema:\n",
    "\n",
    "source = spark.read.csv(\"source.csv\", header=True, schema=schema)\n",
    "case = spark.read.csv(\"case.csv\", header=True, schema=schema1)\n",
    "dept = spark.read.csv(\"dept.csv\", header=True, schema=schema2)"
   ]
  },
  {
   "cell_type": "code",
   "execution_count": 3,
   "metadata": {},
   "outputs": [],
   "source": [
    "# write data to a destination using .write property\n",
    "\n",
    "source.write.json(\"source_json\", mode=\"overwrite\")\n",
    "case.write.json(\"case_json\", mode=\"overwrite\")\n",
    "dept.write.json(\"dept_json\", mode=\"overwrite\")"
   ]
  },
  {
   "cell_type": "code",
   "execution_count": 4,
   "metadata": {},
   "outputs": [
    {
     "name": "stdout",
     "output_type": "stream",
     "text": [
      "+---------------+----------------+----------------------+-------------------+\n",
      "|  dept_division|       dept_name|standardized_dept_name|dept_subject_to_SLA|\n",
      "+---------------+----------------+----------------------+-------------------+\n",
      "|311 Call Center|Customer Service|      Customer Service|                YES|\n",
      "+---------------+----------------+----------------------+-------------------+\n",
      "only showing top 1 row\n",
      "\n"
     ]
    }
   ],
   "source": [
    "dept.show(1)"
   ]
  },
  {
   "cell_type": "code",
   "execution_count": 5,
   "metadata": {},
   "outputs": [
    {
     "name": "stdout",
     "output_type": "stream",
     "text": [
      "+---------+--------------------+\n",
      "|source_id|     source_username|\n",
      "+---------+--------------------+\n",
      "|   100137|    Merlene Blodgett|\n",
      "|   103582|         Carmen Cura|\n",
      "|   106463|     Richard Sanchez|\n",
      "|   119403|      Betty De Hoyos|\n",
      "|   119555|      Socorro Quiara|\n",
      "|   119868| Michelle San Miguel|\n",
      "|   120752|      Eva T. Kleiber|\n",
      "|   124405|           Lori Lara|\n",
      "|   132408|       Leonard Silva|\n",
      "|   135723|        Amy Cardenas|\n",
      "|   136202|    Michelle Urrutia|\n",
      "|   136979|      Leticia Garcia|\n",
      "|   137943|    Pamela K. Baccus|\n",
      "|   138605|        Marisa Ozuna|\n",
      "|   138650|      Kimberly Green|\n",
      "|   138650|Kimberly Green-Woods|\n",
      "|   138793| Guadalupe Rodriguez|\n",
      "|   138810|       Tawona Martin|\n",
      "|   139342|     Jessica Mendoza|\n",
      "|   139344|        Isis Mendoza|\n",
      "+---------+--------------------+\n",
      "only showing top 20 rows\n",
      "\n"
     ]
    }
   ],
   "source": [
    "source.show()"
   ]
  },
  {
   "cell_type": "code",
   "execution_count": 6,
   "metadata": {},
   "outputs": [
    {
     "name": "stdout",
     "output_type": "stream",
     "text": [
      "+----------+----------------+----------------+------------+---------+-------------------+-----------+----------------+----------------------+-----------+-----------+---------+------------------------------------+----------------+\n",
      "|case_id   |case_opened_date|case_closed_date|SLA_due_date|case_late|num_days_late      |case_closed|dept_division   |service_request_type  |SLA_days   |case_status|source_id|request_address                     |council_district|\n",
      "+----------+----------------+----------------+------------+---------+-------------------+-----------+----------------+----------------------+-----------+-----------+---------+------------------------------------+----------------+\n",
      "|1014127332|1/1/18 0:42     |1/1/18 12:29    |9/26/20 0:42|NO       |-998.5087616000001 |YES        |Field Operations|Stray Animal          |999.0      |Closed     |svcCRMLS |2315  EL PASO ST, San Antonio, 78207|5               |\n",
      "|1014127333|1/1/18 0:46     |1/3/18 8:11     |1/5/18 8:30 |NO       |-2.0126041669999997|YES        |Storm Water     |Removal Of Obstruction|4.322222222|Closed     |svcCRMSS |2215  GOLIAD RD, San Antonio, 78223 |3               |\n",
      "+----------+----------------+----------------+------------+---------+-------------------+-----------+----------------+----------------------+-----------+-----------+---------+------------------------------------+----------------+\n",
      "only showing top 2 rows\n",
      "\n"
     ]
    }
   ],
   "source": [
    "case.show(2, False)"
   ]
  },
  {
   "cell_type": "markdown",
   "metadata": {},
   "source": [
    "### prepare:"
   ]
  },
  {
   "cell_type": "code",
   "execution_count": 7,
   "metadata": {},
   "outputs": [
    {
     "name": "stdout",
     "output_type": "stream",
     "text": [
      "root\n",
      " |-- case_id: string (nullable = true)\n",
      " |-- case_opened_date: string (nullable = true)\n",
      " |-- case_closed_date: string (nullable = true)\n",
      " |-- SLA_due_date: string (nullable = true)\n",
      " |-- case_late: string (nullable = true)\n",
      " |-- num_days_late: string (nullable = true)\n",
      " |-- case_closed: string (nullable = true)\n",
      " |-- dept_division: string (nullable = true)\n",
      " |-- service_request_type: string (nullable = true)\n",
      " |-- SLA_days: string (nullable = true)\n",
      " |-- case_status: string (nullable = true)\n",
      " |-- source_id: string (nullable = true)\n",
      " |-- request_address: string (nullable = true)\n",
      " |-- council_district: string (nullable = true)\n",
      " |-- dept_name: string (nullable = true)\n",
      " |-- standardized_dept_name: string (nullable = true)\n",
      " |-- dept_subject_to_SLA: string (nullable = true)\n",
      " |-- source_username: string (nullable = true)\n",
      "\n"
     ]
    }
   ],
   "source": [
    "df = case.join(dept, on=dept.dept_division == case.dept_division).drop(dept.dept_division)\n",
    "df = df.join(source, on = df.source_id== source.source_id).drop(source.source_id)\n",
    "df.printSchema()"
   ]
  },
  {
   "cell_type": "code",
   "execution_count": 8,
   "metadata": {},
   "outputs": [],
   "source": [
    "df = df.withColumnRenamed(\"SLA_due_date\", \"case_due_date\")"
   ]
  },
  {
   "cell_type": "code",
   "execution_count": 9,
   "metadata": {},
   "outputs": [],
   "source": [
    "df = df.withColumn(\"case_closed\", expr('case_closed == \"YES\"')).withColumn(\n",
    "    \"case_late\", expr('case_late == \"YES\"'))\n",
    "df = df.withColumn(\"council_district\", col(\"council_district\").cast(\"string\"))"
   ]
  },
  {
   "cell_type": "code",
   "execution_count": 10,
   "metadata": {},
   "outputs": [],
   "source": [
    "fmt = \"M/d/yy H:mm\"\n",
    "\n",
    "df = df.withColumn(\"case_opened_date\", to_timestamp(\"case_opened_date\", fmt)).withColumn(\"case_closed_date\", to_timestamp(\"case_opened_date\", fmt)).withColumn(\"case_due_date\", to_timestamp(\"case_opened_date\", fmt))"
   ]
  },
  {
   "cell_type": "code",
   "execution_count": 11,
   "metadata": {},
   "outputs": [],
   "source": [
    "df = df.withColumn(\"request_address\", trim(lower(df.request_address)))"
   ]
  },
  {
   "cell_type": "code",
   "execution_count": 12,
   "metadata": {},
   "outputs": [],
   "source": [
    "df = df.withColumn(\n",
    "    \"num_weeks_late\", expr(\"num_days_late / 7 AS num_weeks_late\")\n",
    ")\n"
   ]
  },
  {
   "cell_type": "code",
   "execution_count": 13,
   "metadata": {},
   "outputs": [],
   "source": [
    "df = df.withColumn(\"council_district\", col(\"council_district\").cast(\"int\"))\n",
    "\n",
    "df = df.withColumn(\n",
    "    \"council_district\",\n",
    "    format_string(\"%03d\", col(\"council_district\").cast(\"int\")),\n",
    ")"
   ]
  },
  {
   "cell_type": "code",
   "execution_count": 14,
   "metadata": {},
   "outputs": [],
   "source": [
    "df = df.withColumn(\"zipcode\", regexp_extract(\"request_address\", r\"\\d+$\", 0))\n",
    "df = (\n",
    "    df.withColumn(\n",
    "        \"case_age\", datediff(current_timestamp(), \"case_opened_date\")\n",
    "    )\n",
    "    .withColumn(\n",
    "        \"days_to_closed\", datediff(\"case_closed_date\", \"case_opened_date\")\n",
    "    )\n",
    "    .withColumn(\n",
    "        \"case_lifetime\",\n",
    "        when(expr(\"! case_closed\"), col(\"case_age\")).otherwise(\n",
    "            col(\"days_to_closed\")\n",
    "        ),\n",
    "    )\n",
    ")"
   ]
  },
  {
   "cell_type": "markdown",
   "metadata": {},
   "source": [
    "source.write.csv('source_csv', mode = 'overwrite')\n",
    "case.write.csv('case_csv', mode = 'overwrite')\n",
    "dept.write.csv('dept_csv', mode = 'overwrite')"
   ]
  },
  {
   "cell_type": "code",
   "execution_count": 15,
   "metadata": {},
   "outputs": [
    {
     "data": {
      "text/plain": [
       "[('case_id', 'string'),\n",
       " ('case_opened_date', 'timestamp'),\n",
       " ('case_closed_date', 'timestamp'),\n",
       " ('case_due_date', 'timestamp'),\n",
       " ('case_late', 'boolean'),\n",
       " ('num_days_late', 'string'),\n",
       " ('case_closed', 'boolean'),\n",
       " ('dept_division', 'string'),\n",
       " ('service_request_type', 'string'),\n",
       " ('SLA_days', 'string'),\n",
       " ('case_status', 'string'),\n",
       " ('source_id', 'string'),\n",
       " ('request_address', 'string'),\n",
       " ('council_district', 'string'),\n",
       " ('dept_name', 'string'),\n",
       " ('standardized_dept_name', 'string'),\n",
       " ('dept_subject_to_SLA', 'string'),\n",
       " ('source_username', 'string'),\n",
       " ('num_weeks_late', 'double'),\n",
       " ('zipcode', 'string'),\n",
       " ('case_age', 'int'),\n",
       " ('days_to_closed', 'int'),\n",
       " ('case_lifetime', 'int')]"
      ]
     },
     "execution_count": 15,
     "metadata": {},
     "output_type": "execute_result"
    }
   ],
   "source": [
    "df.dtypes"
   ]
  },
  {
   "cell_type": "markdown",
   "metadata": {},
   "source": [
    "#### The csv files contain a txt file which states succes if the csv was created, also the csv doesnt contain the column name but does contain two columns which has the id and username for source."
   ]
  },
  {
   "cell_type": "markdown",
   "metadata": {},
   "source": [
    "## 1.) How old is the latest (in terms of days past SLA) currently open issue? How long has the oldest (in terms of days since opened) currently opened issue been open?\n"
   ]
  },
  {
   "cell_type": "code",
   "execution_count": 32,
   "metadata": {},
   "outputs": [
    {
     "name": "stdout",
     "output_type": "stream",
     "text": [
      "-RECORD 0--------------------------------------\n",
      " case_id                | 1014127361           \n",
      " case_opened_date       | 2018-01-01 07:13:00  \n",
      " case_closed_date       | 2018-01-01 07:13:00  \n",
      " case_due_date          | 2018-01-01 07:13:00  \n",
      " case_late              | false                \n",
      " num_days_late          | -14.70434028         \n",
      " case_closed            | true                 \n",
      " dept_division          | Code Enforcement     \n",
      " service_request_type   | Right Of Way/Side... \n",
      " SLA_days               | 16.05280093          \n",
      " case_status            | Closed               \n",
      " source_id              | svcCRMSS             \n",
      " request_address        | 837  barrel point... \n",
      " council_district       | 004                  \n",
      " dept_name              | Code Enforcement ... \n",
      " standardized_dept_name | DSD/Code Enforcement \n",
      " dept_subject_to_SLA    | YES                  \n",
      " source_username        | svcCRMSS             \n",
      " num_weeks_late         | -2.10062004          \n",
      " zipcode                | 78251                \n",
      " case_age               | 1313                 \n",
      " days_to_closed         | 0                    \n",
      " case_lifetime          | 0                    \n",
      " num_hours_late         | -0.612680845         \n",
      "-RECORD 1--------------------------------------\n",
      " case_id                | 1014127362           \n",
      " case_opened_date       | 2018-01-01 07:14:00  \n",
      " case_closed_date       | 2018-01-01 07:14:00  \n",
      " case_due_date          | 2018-01-01 07:14:00  \n",
      " case_late              | false                \n",
      " num_days_late          | -14.70421296         \n",
      " case_closed            | true                 \n",
      " dept_division          | Code Enforcement     \n",
      " service_request_type   | Front Or Side Yar... \n",
      " SLA_days               | 16.05232639          \n",
      " case_status            | Closed               \n",
      " source_id              | svcCRMSS             \n",
      " request_address        | 837  barrel point... \n",
      " council_district       | 004                  \n",
      " dept_name              | Code Enforcement ... \n",
      " standardized_dept_name | DSD/Code Enforcement \n",
      " dept_subject_to_SLA    | YES                  \n",
      " source_username        | svcCRMSS             \n",
      " num_weeks_late         | -2.1006018514285714  \n",
      " zipcode                | 78251                \n",
      " case_age               | 1313                 \n",
      " days_to_closed         | 0                    \n",
      " case_lifetime          | 0                    \n",
      " num_hours_late         | -0.61267554          \n",
      "-RECORD 2--------------------------------------\n",
      " case_id                | 1014127367           \n",
      " case_opened_date       | 2018-01-01 07:17:00  \n",
      " case_closed_date       | 2018-01-01 07:17:00  \n",
      " case_due_date          | 2018-01-01 07:17:00  \n",
      " case_late              | false                \n",
      " num_days_late          | -14.70398148         \n",
      " case_closed            | true                 \n",
      " dept_division          | Code Enforcement     \n",
      " service_request_type   | Front Or Side Yar... \n",
      " SLA_days               | 16.05024306          \n",
      " case_status            | Closed               \n",
      " source_id              | svcCRMSS             \n",
      " request_address        | 10133  figaro can... \n",
      " council_district       | 004                  \n",
      " dept_name              | Code Enforcement ... \n",
      " standardized_dept_name | DSD/Code Enforcement \n",
      " dept_subject_to_SLA    | YES                  \n",
      " source_username        | svcCRMSS             \n",
      " num_weeks_late         | -2.1005687828571427  \n",
      " zipcode                | 78251                \n",
      " case_age               | 1313                 \n",
      " days_to_closed         | 0                    \n",
      " case_lifetime          | 0                    \n",
      " num_hours_late         | -0.612665895         \n",
      "-RECORD 3--------------------------------------\n",
      " case_id                | 1014127368           \n",
      " case_opened_date       | 2018-01-01 07:18:00  \n",
      " case_closed_date       | 2018-01-01 07:18:00  \n",
      " case_due_date          | 2018-01-01 07:18:00  \n",
      " case_late              | false                \n",
      " num_days_late          | -14.71327546         \n",
      " case_closed            | true                 \n",
      " dept_division          | Code Enforcement     \n",
      " service_request_type   | Right Of Way/Side... \n",
      " SLA_days               | 16.04976852          \n",
      " case_status            | Closed               \n",
      " source_id              | svcCRMSS             \n",
      " request_address        | 10133  figaro can... \n",
      " council_district       | 004                  \n",
      " dept_name              | Code Enforcement ... \n",
      " standardized_dept_name | DSD/Code Enforcement \n",
      " dept_subject_to_SLA    | YES                  \n",
      " source_username        | svcCRMSS             \n",
      " num_weeks_late         | -2.101896494285714   \n",
      " zipcode                | 78251                \n",
      " case_age               | 1313                 \n",
      " days_to_closed         | 0                    \n",
      " case_lifetime          | 0                    \n",
      " num_hours_late         | -0.6130531441666667  \n",
      "-RECORD 4--------------------------------------\n",
      " case_id                | 1014127387           \n",
      " case_opened_date       | 2018-01-01 08:57:00  \n",
      " case_closed_date       | 2018-01-01 08:57:00  \n",
      " case_due_date          | 2018-01-01 08:57:00  \n",
      " case_late              | true                 \n",
      " num_days_late          | 0.03150463           \n",
      " case_closed            | true                 \n",
      " dept_division          | Field Operations     \n",
      " service_request_type   | Animal Cruelty(Cr... \n",
      " SLA_days               | 0.125                \n",
      " case_status            | Closed               \n",
      " source_id              | svcCRMSS             \n",
      " request_address        | datapoint and fre... \n",
      " council_district       | 008                  \n",
      " dept_name              | Animal Care Services \n",
      " standardized_dept_name | Animal Care Services \n",
      " dept_subject_to_SLA    | YES                  \n",
      " source_username        | svcCRMSS             \n",
      " num_weeks_late         | 0.004500661428571429 \n",
      " zipcode                |                      \n",
      " case_age               | 1313                 \n",
      " days_to_closed         | 0                    \n",
      " case_lifetime          | 0                    \n",
      " num_hours_late         | 0.001312692916666... \n",
      "-RECORD 5--------------------------------------\n",
      " case_id                | 1014127394           \n",
      " case_opened_date       | 2018-01-01 09:15:00  \n",
      " case_closed_date       | 2018-01-01 09:15:00  \n",
      " case_due_date          | 2018-01-01 09:15:00  \n",
      " case_late              | false                \n",
      " num_days_late          | -1.899375            \n",
      " case_closed            | true                 \n",
      " dept_division          | Signals              \n",
      " service_request_type   | Traffic Signal Op... \n",
      " SLA_days               | 1.968414352          \n",
      " case_status            | Closed               \n",
      " source_id              | 139344               \n",
      " request_address        | calaveras n and f... \n",
      " council_district       | 001                  \n",
      " dept_name              | Trans & Cap Impro... \n",
      " standardized_dept_name | Trans & Cap Impro... \n",
      " dept_subject_to_SLA    | YES                  \n",
      " source_username        | Isis Mendoza         \n",
      " num_weeks_late         | -0.2713392857142857  \n",
      " zipcode                |                      \n",
      " case_age               | 1313                 \n",
      " days_to_closed         | 0                    \n",
      " case_lifetime          | 0                    \n",
      " num_hours_late         | -0.079140625         \n",
      "-RECORD 6--------------------------------------\n",
      " case_id                | 1014127417           \n",
      " case_opened_date       | 2018-01-01 10:32:00  \n",
      " case_closed_date       | 2018-01-01 10:32:00  \n",
      " case_due_date          | 2018-01-01 10:32:00  \n",
      " case_late              | true                 \n",
      " num_days_late          | 0.048368056          \n",
      " case_closed            | true                 \n",
      " dept_division          | Field Operations     \n",
      " service_request_type   | Animal Neglect       \n",
      " SLA_days               | 5.0                  \n",
      " case_status            | Closed               \n",
      " source_id              | ns16326              \n",
      " request_address        | 4839  flicker dr,... \n",
      " council_district       | 010                  \n",
      " dept_name              | Animal Care Services \n",
      " standardized_dept_name | Animal Care Services \n",
      " dept_subject_to_SLA    | YES                  \n",
      " source_username        | Norma K. Sotoodeh    \n",
      " num_weeks_late         | 0.006909722285714286 \n",
      " zipcode                | 78217                \n",
      " case_age               | 1313                 \n",
      " days_to_closed         | 0                    \n",
      " case_lifetime          | 0                    \n",
      " num_hours_late         | 0.002015335666666667 \n",
      "-RECORD 7--------------------------------------\n",
      " case_id                | 1014127419           \n",
      " case_opened_date       | 2018-01-01 10:37:00  \n",
      " case_closed_date       | 2018-01-01 10:37:00  \n",
      " case_due_date          | 2018-01-01 10:37:00  \n",
      " case_late              | true                 \n",
      " num_days_late          | 36.1630787           \n",
      " case_closed            | true                 \n",
      " dept_division          | Field Operations     \n",
      " service_request_type   | Aggressive Animal... \n",
      " SLA_days               | 5.0                  \n",
      " case_status            | Closed               \n",
      " source_id              | ns16326              \n",
      " request_address        | 436  san horacio ... \n",
      " council_district       | 005                  \n",
      " dept_name              | Animal Care Services \n",
      " standardized_dept_name | Animal Care Services \n",
      " dept_subject_to_SLA    | YES                  \n",
      " source_username        | Norma K. Sotoodeh    \n",
      " num_weeks_late         | 5.1661541            \n",
      " zipcode                | 78237                \n",
      " case_age               | 1313                 \n",
      " days_to_closed         | 0                    \n",
      " case_lifetime          | 0                    \n",
      " num_hours_late         | 1.5067949458333334   \n",
      "-RECORD 8--------------------------------------\n",
      " case_id                | 1014127422           \n",
      " case_opened_date       | 2018-01-01 10:41:00  \n",
      " case_closed_date       | 2018-01-01 10:41:00  \n",
      " case_due_date          | 2018-01-01 10:41:00  \n",
      " case_late              | false                \n",
      " num_days_late          | -0.05648148099999999 \n",
      " case_closed            | true                 \n",
      " dept_division          | Field Operations     \n",
      " service_request_type   | Injured Animal(Cr... \n",
      " SLA_days               | 0.125                \n",
      " case_status            | Closed               \n",
      " source_id              | ns16326              \n",
      " request_address        | churing dr and pr... \n",
      " council_district       | 004                  \n",
      " dept_name              | Animal Care Services \n",
      " standardized_dept_name | Animal Care Services \n",
      " dept_subject_to_SLA    | YES                  \n",
      " source_username        | Norma K. Sotoodeh    \n",
      " num_weeks_late         | -0.008068783         \n",
      " zipcode                |                      \n",
      " case_age               | 1313                 \n",
      " days_to_closed         | 0                    \n",
      " case_lifetime          | 0                    \n",
      " num_hours_late         | -0.00235339504166... \n",
      "-RECORD 9--------------------------------------\n",
      " case_id                | 1014127427           \n",
      " case_opened_date       | 2018-01-01 10:48:00  \n",
      " case_closed_date       | 2018-01-01 10:48:00  \n",
      " case_due_date          | 2018-01-01 10:48:00  \n",
      " case_late              | false                \n",
      " num_days_late          | -0.314826389         \n",
      " case_closed            | true                 \n",
      " dept_division          | Field Operations     \n",
      " service_request_type   | Trapped/Confined ... \n",
      " SLA_days               | 0.5                  \n",
      " case_status            | Closed               \n",
      " source_id              | ns16326              \n",
      " request_address        | 516  flores st s,... \n",
      " council_district       | 001                  \n",
      " dept_name              | Animal Care Services \n",
      " standardized_dept_name | Animal Care Services \n",
      " dept_subject_to_SLA    | YES                  \n",
      " source_username        | Norma K. Sotoodeh    \n",
      " num_weeks_late         | -0.04497519842857143 \n",
      " zipcode                | 78204                \n",
      " case_age               | 1313                 \n",
      " days_to_closed         | 0                    \n",
      " case_lifetime          | 0                    \n",
      " num_hours_late         | -0.01311776620833... \n",
      "only showing top 10 rows\n",
      "\n"
     ]
    }
   ],
   "source": [
    "df.sample(.1).show(10, vertical = True)"
   ]
  },
  {
   "cell_type": "code",
   "execution_count": 17,
   "metadata": {},
   "outputs": [
    {
     "name": "stdout",
     "output_type": "stream",
     "text": [
      "+-----------+------------------+\n",
      "|case_status|max(case_lifetime)|\n",
      "+-----------+------------------+\n",
      "|       Open|              1678|\n",
      "|     Closed|                 0|\n",
      "+-----------+------------------+\n",
      "\n"
     ]
    }
   ],
   "source": [
    "df.groupby('case_status').agg(max(\"case_lifetime\")).show()"
   ]
  },
  {
   "cell_type": "code",
   "execution_count": 18,
   "metadata": {},
   "outputs": [
    {
     "name": "stdout",
     "output_type": "stream",
     "text": [
      "+--------------------+-----+\n",
      "|service_request_type|count|\n",
      "+--------------------+-----+\n",
      "|Minimum Housing-O...| 8617|\n",
      "|        Tree Removal|  298|\n",
      "| Service Information|  164|\n",
      "|    Sign Maintenance|   82|\n",
      "|Park Building Mai...|   48|\n",
      "|Brush Property Da...|  186|\n",
      "|Graffiti: Private...| 8525|\n",
      "|Traffic Sign Graf...| 2150|\n",
      "|License Renewal I...| 1394|\n",
      "|Used/Scrap Tire F...|   19|\n",
      "+--------------------+-----+\n",
      "only showing top 10 rows\n",
      "\n"
     ]
    }
   ],
   "source": [
    "df.groupby('service_request_type').count().show(10)"
   ]
  },
  {
   "cell_type": "markdown",
   "metadata": {},
   "source": [
    "## 2.) How many Stray Animal cases are there?\n",
    "\n",
    "\n"
   ]
  },
  {
   "cell_type": "code",
   "execution_count": 19,
   "metadata": {},
   "outputs": [
    {
     "name": "stdout",
     "output_type": "stream",
     "text": [
      "+--------------------+-----+\n",
      "|service_request_type|count|\n",
      "+--------------------+-----+\n",
      "|        Stray Animal|27361|\n",
      "+--------------------+-----+\n",
      "\n"
     ]
    }
   ],
   "source": [
    "df.filter(col('service_request_type') == 'Stray Animal').groupby('service_request_type').count().show()"
   ]
  },
  {
   "cell_type": "markdown",
   "metadata": {},
   "source": [
    "## 3.) How many service requests that are assigned to the Field Operations department (dept_division) are not classified as \"Officer Standby\" request type (service_request_type)?\n"
   ]
  },
  {
   "cell_type": "code",
   "execution_count": 20,
   "metadata": {},
   "outputs": [
    {
     "data": {
      "text/plain": [
       "116295"
      ]
     },
     "execution_count": 20,
     "metadata": {},
     "output_type": "execute_result"
    }
   ],
   "source": [
    "df.filter(col('dept_division') == 'Field Operations').filter(col('service_request_type') != 'Officer Standby').count()"
   ]
  },
  {
   "cell_type": "markdown",
   "metadata": {},
   "source": [
    "## 4.) Convert the council_district column to a string column.\n"
   ]
  },
  {
   "cell_type": "code",
   "execution_count": 21,
   "metadata": {},
   "outputs": [
    {
     "data": {
      "text/plain": [
       "[('case_id', 'string'),\n",
       " ('case_opened_date', 'timestamp'),\n",
       " ('case_closed_date', 'timestamp'),\n",
       " ('case_due_date', 'timestamp'),\n",
       " ('case_late', 'boolean'),\n",
       " ('num_days_late', 'string'),\n",
       " ('case_closed', 'boolean'),\n",
       " ('dept_division', 'string'),\n",
       " ('service_request_type', 'string'),\n",
       " ('SLA_days', 'string'),\n",
       " ('case_status', 'string'),\n",
       " ('source_id', 'string'),\n",
       " ('request_address', 'string'),\n",
       " ('council_district', 'string'),\n",
       " ('dept_name', 'string'),\n",
       " ('standardized_dept_name', 'string'),\n",
       " ('dept_subject_to_SLA', 'string'),\n",
       " ('source_username', 'string'),\n",
       " ('num_weeks_late', 'double'),\n",
       " ('zipcode', 'string'),\n",
       " ('case_age', 'int'),\n",
       " ('days_to_closed', 'int'),\n",
       " ('case_lifetime', 'int')]"
      ]
     },
     "execution_count": 21,
     "metadata": {},
     "output_type": "execute_result"
    }
   ],
   "source": [
    "#converted in prepare initial\n",
    "df.dtypes"
   ]
  },
  {
   "cell_type": "markdown",
   "metadata": {},
   "source": [
    "## 5.) Extract the year from the case_closed_date column.\n"
   ]
  },
  {
   "cell_type": "code",
   "execution_count": 22,
   "metadata": {},
   "outputs": [],
   "source": [
    "df1 = df.withColumn('year',year(df.case_closed_date))"
   ]
  },
  {
   "cell_type": "markdown",
   "metadata": {},
   "source": [
    "## 6.) Convert num_days_late from days to hours in new columns num_hours_late.\n"
   ]
  },
  {
   "cell_type": "code",
   "execution_count": 23,
   "metadata": {},
   "outputs": [
    {
     "data": {
      "text/plain": [
       "[('case_id', 'string'),\n",
       " ('case_opened_date', 'timestamp'),\n",
       " ('case_closed_date', 'timestamp'),\n",
       " ('case_due_date', 'timestamp'),\n",
       " ('case_late', 'boolean'),\n",
       " ('num_days_late', 'string'),\n",
       " ('case_closed', 'boolean'),\n",
       " ('dept_division', 'string'),\n",
       " ('service_request_type', 'string'),\n",
       " ('SLA_days', 'string'),\n",
       " ('case_status', 'string'),\n",
       " ('source_id', 'string'),\n",
       " ('request_address', 'string'),\n",
       " ('council_district', 'string'),\n",
       " ('dept_name', 'string'),\n",
       " ('standardized_dept_name', 'string'),\n",
       " ('dept_subject_to_SLA', 'string'),\n",
       " ('source_username', 'string'),\n",
       " ('num_weeks_late', 'double'),\n",
       " ('zipcode', 'string'),\n",
       " ('case_age', 'int'),\n",
       " ('days_to_closed', 'int'),\n",
       " ('case_lifetime', 'int')]"
      ]
     },
     "execution_count": 23,
     "metadata": {},
     "output_type": "execute_result"
    }
   ],
   "source": [
    "df.dtypes"
   ]
  },
  {
   "cell_type": "code",
   "execution_count": 24,
   "metadata": {},
   "outputs": [],
   "source": [
    "#create new column which will have days to hours. 1 day = 24hrs.\n",
    "df = df.withColumn('num_hours_late',expr(\"num_days_late / 24\"))"
   ]
  },
  {
   "cell_type": "markdown",
   "metadata": {},
   "source": [
    "## 6.) Join the case data with the source and department data.\n"
   ]
  },
  {
   "cell_type": "markdown",
   "metadata": {},
   "source": [
    "did this in the prepare "
   ]
  },
  {
   "cell_type": "markdown",
   "metadata": {},
   "source": [
    "## 7.) Are there any cases that do not have a request source?\n",
    "\n",
    "there is 0"
   ]
  },
  {
   "cell_type": "code",
   "execution_count": 25,
   "metadata": {},
   "outputs": [
    {
     "name": "stdout",
     "output_type": "stream",
     "text": [
      "+-------+----------------+----------------+-------------+---------+-------------+-----------+-------------+--------------------+--------+-----------+---------+---------------+----------------+---------+----------------------+-------------------+---------------+--------------+-------+--------+--------------+-------------+--------------+\n",
      "|case_id|case_opened_date|case_closed_date|case_due_date|case_late|num_days_late|case_closed|dept_division|service_request_type|SLA_days|case_status|source_id|request_address|council_district|dept_name|standardized_dept_name|dept_subject_to_SLA|source_username|num_weeks_late|zipcode|case_age|days_to_closed|case_lifetime|num_hours_late|\n",
      "+-------+----------------+----------------+-------------+---------+-------------+-----------+-------------+--------------------+--------+-----------+---------+---------------+----------------+---------+----------------------+-------------------+---------------+--------------+-------+--------+--------------+-------------+--------------+\n",
      "+-------+----------------+----------------+-------------+---------+-------------+-----------+-------------+--------------------+--------+-----------+---------+---------------+----------------+---------+----------------------+-------------------+---------------+--------------+-------+--------+--------------+-------------+--------------+\n",
      "\n"
     ]
    }
   ],
   "source": [
    "df.filter(col('source_id') == lit('Null')).show()"
   ]
  },
  {
   "cell_type": "code",
   "execution_count": 26,
   "metadata": {},
   "outputs": [
    {
     "name": "stdout",
     "output_type": "stream",
     "text": [
      "+-------------------+-----+\n",
      "|    source_username|count|\n",
      "+-------------------+-----+\n",
      "|       Lexi Bachran|    1|\n",
      "|     Chrissy McCain|    1|\n",
      "|          Milee Ray|    1|\n",
      "|    Sergio Gonzales|    1|\n",
      "|   Emilie Christian|    1|\n",
      "|      Janelle Lopez|    1|\n",
      "|     Samantha Garza|    2|\n",
      "|      Danette Brown|    2|\n",
      "|     Erika Phillips|    2|\n",
      "|       Jerry Robles|    2|\n",
      "|        Andy Greene|    2|\n",
      "|  Georgette Goacher|    2|\n",
      "|       Linda Bibles|    3|\n",
      "|        Raul Olveda|    3|\n",
      "|   Jeremy Sifuentes|    3|\n",
      "|       Sakib Shaikh|    5|\n",
      "|      Vincent Kosub|    6|\n",
      "| Elizabeth Stephens|    6|\n",
      "|William F. Trynoski|    7|\n",
      "|      Beau Anderson|    7|\n",
      "+-------------------+-----+\n",
      "only showing top 20 rows\n",
      "\n"
     ]
    }
   ],
   "source": [
    "df.groupby('source_username').count().sort(asc(\"count\")).show(20)"
   ]
  },
  {
   "cell_type": "markdown",
   "metadata": {},
   "source": [
    "## 8.) What are the top 10 service request types in terms of number of requests?\n"
   ]
  },
  {
   "cell_type": "code",
   "execution_count": 27,
   "metadata": {},
   "outputs": [
    {
     "name": "stdout",
     "output_type": "stream",
     "text": [
      "+--------------------+-----+\n",
      "|service_request_type|count|\n",
      "+--------------------+-----+\n",
      "|           No Pickup|89210|\n",
      "|Overgrown Yard/Trash|66403|\n",
      "|        Bandit Signs|32968|\n",
      "|        Damaged Cart|31163|\n",
      "|Front Or Side Yar...|28920|\n",
      "|        Stray Animal|27361|\n",
      "|Aggressive Animal...|25492|\n",
      "|Cart Exchange Req...|22608|\n",
      "|Junk Vehicle On P...|21649|\n",
      "|     Pot Hole Repair|20827|\n",
      "+--------------------+-----+\n",
      "only showing top 10 rows\n",
      "\n"
     ]
    }
   ],
   "source": [
    "df.groupby('service_request_type').count().sort(desc(\"count\")).show(10)"
   ]
  },
  {
   "cell_type": "markdown",
   "metadata": {},
   "source": [
    "## 9.) What are the top 10 service request types in terms of average days late?\n"
   ]
  },
  {
   "cell_type": "code",
   "execution_count": 28,
   "metadata": {},
   "outputs": [
    {
     "data": {
      "text/plain": [
       "DataFrame[service_request_type: string, avg(num_days_late): double]"
      ]
     },
     "execution_count": 28,
     "metadata": {},
     "output_type": "execute_result"
    }
   ],
   "source": [
    "df.groupby('service_request_type').agg(mean(col('num_days_late')))"
   ]
  },
  {
   "cell_type": "code",
   "execution_count": 29,
   "metadata": {},
   "outputs": [
    {
     "name": "stdout",
     "output_type": "stream",
     "text": [
      "+--------------------+------------------+\n",
      "|service_request_type|avg(num_days_late)|\n",
      "+--------------------+------------------+\n",
      "|  Zoning: Junk Yards| 175.9563621042095|\n",
      "|Labeling for Used...|162.43032902285717|\n",
      "|Record Keeping of...|153.99724039428568|\n",
      "|Signage Requied f...|151.63868055333333|\n",
      "|Storage of Used M...|     142.112556415|\n",
      "|Zoning: Recycle Yard|135.92851612479797|\n",
      "|Donation Containe...|131.75610506358706|\n",
      "|License Requied U...|128.79828704142858|\n",
      "|Traffic Signal Gr...|101.79846062200002|\n",
      "|           Complaint| 72.87050230311695|\n",
      "|             Vendors|   66.548098985078|\n",
      "|Reservation Assis...|       66.03116319|\n",
      "+--------------------+------------------+\n",
      "only showing top 12 rows\n",
      "\n"
     ]
    }
   ],
   "source": [
    "df.groupby('service_request_type').agg(mean(col('num_days_late'))).sort(desc('avg(num_days_late)')).show(12)"
   ]
  },
  {
   "cell_type": "markdown",
   "metadata": {},
   "source": [
    "## Does number of days late depend on department?\n",
    "\n",
    "yes certain departments are on average later than others"
   ]
  },
  {
   "cell_type": "code",
   "execution_count": 30,
   "metadata": {},
   "outputs": [
    {
     "name": "stdout",
     "output_type": "stream",
     "text": [
      "+--------------------+-------------------+\n",
      "|       dept_division| avg(num_days_late)|\n",
      "+--------------------+-------------------+\n",
      "|Code Enforcement ...| 135.92851612479797|\n",
      "|        Reservations|        66.03116319|\n",
      "|     311 Call Center| 59.737091496300785|\n",
      "|Director's Office...| 37.570646702950086|\n",
      "|Engineering Division|  13.43372455586971|\n",
      "|               Shops|   9.64126176872269|\n",
      "|           Tree Crew|  4.723282812065399|\n",
      "|         Solid Waste| 3.5190239198762248|\n",
      "|              Trades|  3.231977141276932|\n",
      "|Clean and Green N...|  1.691468919487805|\n",
      "|              Vector|-1.1206532993223441|\n",
      "|    Facility License|-1.4126937702216633|\n",
      "|       Miscellaneous|-1.7218576838926591|\n",
      "|    Waste Collection| -2.170652238479914|\n",
      "|     Clean and Green| -2.557154979254144|\n",
      "|               Brush| -3.985790571457094|\n",
      "| Food Establishments| -6.971552370451523|\n",
      "|  Signs and Markings| -7.448628001357712|\n",
      "|    Shops (Internal)| -8.186267119876439|\n",
      "|         Storm Water|-14.055678397031881|\n",
      "|Storm Water Engin...|-15.075511976006073|\n",
      "|             Streets|-24.037123211992846|\n",
      "+--------------------+-------------------+\n",
      "only showing top 22 rows\n",
      "\n"
     ]
    }
   ],
   "source": [
    "df.groupby('dept_division').agg(mean(col('num_days_late'))).sort(desc('avg(num_days_late)')).show(22)"
   ]
  },
  {
   "cell_type": "markdown",
   "metadata": {},
   "source": [
    "## How do number of days late depend on department and request type?\n",
    "\n",
    "for a particular department division a particular request service type can result in a higher avg."
   ]
  },
  {
   "cell_type": "code",
   "execution_count": 31,
   "metadata": {},
   "outputs": [
    {
     "name": "stdout",
     "output_type": "stream",
     "text": [
      "+--------------------+--------------------+------------------+\n",
      "|       dept_division|service_request_type|avg(num_days_late)|\n",
      "+--------------------+--------------------+------------------+\n",
      "|    Code Enforcement|  Zoning: Junk Yards| 175.9563621042095|\n",
      "|Code Enforcement ...|Labeling for Used...|162.43032902285717|\n",
      "|Code Enforcement ...|Record Keeping of...|153.99724039428568|\n",
      "|Code Enforcement ...|Signage Requied f...|151.63868055333333|\n",
      "|Code Enforcement ...|Storage of Used M...|     142.112556415|\n",
      "|Code Enforcement ...|Zoning: Recycle Yard|135.92851612479797|\n",
      "|    Code Enforcement|Donation Containe...|131.75610506358706|\n",
      "|Code Enforcement ...|License Requied U...|128.79828704142858|\n",
      "|             Signals|Traffic Signal Gr...|101.79846062200002|\n",
      "|Code Enforcement ...|Used Mattress Ins...| 92.93570056835293|\n",
      "|Code Enforcement ...|        Bandit Signs| 87.61764120320001|\n",
      "|     311 Call Center|           Complaint| 72.87050230311695|\n",
      "|    Code Enforcement|             Vendors|   66.548098985078|\n",
      "|        Reservations|Reservation Assis...|       66.03116319|\n",
      "|    Waste Collection|Contracted Servic...|     62.2454525543|\n",
      "|    Code Enforcement|   No Address Posted|59.875640733625936|\n",
      "|    Code Enforcement|         Curbstoning|59.808628977605274|\n",
      "|Director's Office...|Status: On-Going ...|37.570646702950086|\n",
      "|Code Enforcement ...|Historical Buildi...|31.567148565454545|\n",
      "|    Waste Collection| Service Information|29.177355749054875|\n",
      "|       Miscellaneous|Contracted Servic...|       29.09545139|\n",
      "|    Shops (Internal)|Park Building Mai...|24.322320840895838|\n",
      "+--------------------+--------------------+------------------+\n",
      "only showing top 22 rows\n",
      "\n"
     ]
    }
   ],
   "source": [
    "df.groupby('dept_division', 'service_request_type').agg(mean(col('num_days_late'))).sort(desc('avg(num_days_late)')).show(22)"
   ]
  },
  {
   "cell_type": "code",
   "execution_count": null,
   "metadata": {},
   "outputs": [],
   "source": []
  }
 ],
 "metadata": {
  "kernelspec": {
   "display_name": "Python 3",
   "language": "python",
   "name": "python3"
  },
  "language_info": {
   "codemirror_mode": {
    "name": "ipython",
    "version": 3
   },
   "file_extension": ".py",
   "mimetype": "text/x-python",
   "name": "python",
   "nbconvert_exporter": "python",
   "pygments_lexer": "ipython3",
   "version": "3.8.5"
  }
 },
 "nbformat": 4,
 "nbformat_minor": 4
}
